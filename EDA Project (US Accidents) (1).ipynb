{
 "cells": [
  {
   "cell_type": "markdown",
   "metadata": {},
   "source": [
    "## Data Preparation And Cleaning"
   ]
  },
  {
   "cell_type": "code",
   "execution_count": null,
   "metadata": {},
   "outputs": [],
   "source": [
    "import pandas as pd\n",
    "from matplotlib import pyplot as plt"
   ]
  },
  {
   "cell_type": "code",
   "execution_count": null,
   "metadata": {},
   "outputs": [],
   "source": [
    "df=pd.read_csv(\"US_Accidents_Dec20_updated.csv\")\n",
    "df"
   ]
  },
  {
   "cell_type": "code",
   "execution_count": null,
   "metadata": {},
   "outputs": [],
   "source": [
    "df.info()"
   ]
  },
  {
   "cell_type": "code",
   "execution_count": null,
   "metadata": {},
   "outputs": [],
   "source": [
    "df.describe()"
   ]
  },
  {
   "cell_type": "code",
   "execution_count": null,
   "metadata": {},
   "outputs": [],
   "source": [
    "# to get the numeric data types \n",
    "numerics = ['int16', 'int32', 'int64', 'float16', 'float32', 'float64']\n",
    "numeric=df.select_dtypes(include=numerics)\n",
    "# check how many numeric columns we have\n",
    "len(numeric.columns)"
   ]
  },
  {
   "cell_type": "markdown",
   "metadata": {},
   "source": [
    "Percentage of missing values per column"
   ]
  },
  {
   "cell_type": "code",
   "execution_count": null,
   "metadata": {},
   "outputs": [],
   "source": [
    "missing_percentages=df.isna().sum().sort_values(ascending=False)/len(df) # count of missing values in each column\n",
    "print(missing_percentages)"
   ]
  },
  {
   "cell_type": "code",
   "execution_count": null,
   "metadata": {},
   "outputs": [],
   "source": [
    "type(missing_percentages)  # series is one column from a dataframe"
   ]
  },
  {
   "cell_type": "code",
   "execution_count": null,
   "metadata": {},
   "outputs": [],
   "source": [
    "missing_percentages[missing_percentages!=0].plot(kind=\"barh\")\n",
    "# it will include those values which don't have zero"
   ]
  },
  {
   "cell_type": "code",
   "execution_count": null,
   "metadata": {},
   "outputs": [],
   "source": [
    "# we can drop those column also which have half and more than half null values"
   ]
  },
  {
   "cell_type": "markdown",
   "metadata": {},
   "source": [
    "# Exploratory Analysis and Visualization\n",
    "\n",
    "Columns we'll analyze:\n",
    "\n",
    "City\n",
    "\n",
    "Start Time\n",
    "\n",
    "Start Lat, Start Lng\n",
    "\n",
    "Temperature\n",
    "\n",
    "Weather Condition"
   ]
  },
  {
   "cell_type": "code",
   "execution_count": null,
   "metadata": {},
   "outputs": [],
   "source": [
    "df.columns"
   ]
  },
  {
   "cell_type": "code",
   "execution_count": null,
   "metadata": {},
   "outputs": [],
   "source": [
    "df.City"
   ]
  },
  {
   "cell_type": "code",
   "execution_count": null,
   "metadata": {},
   "outputs": [],
   "source": [
    "cities=df[\"City\"].unique()\n",
    "len(cities) # to chack the number of unique cities."
   ]
  },
  {
   "cell_type": "code",
   "execution_count": null,
   "metadata": {},
   "outputs": [],
   "source": [
    "# to check the number of cities by accidents\n",
    "number_of_city=df.City.value_counts()\n",
    "number_of_city"
   ]
  },
  {
   "cell_type": "code",
   "execution_count": null,
   "metadata": {},
   "outputs": [],
   "source": [
    "# top 10 cities\n",
    "number_of_city[:11]"
   ]
  },
  {
   "cell_type": "code",
   "execution_count": null,
   "metadata": {
    "scrolled": true
   },
   "outputs": [],
   "source": [
    "# since the data is huge so we won't be able to create a graph for all the states\n",
    "number_of_city[:20].plot(kind=\"barh\")"
   ]
  },
  {
   "cell_type": "code",
   "execution_count": null,
   "metadata": {},
   "outputs": [],
   "source": [
    "# new york is the most populated state but then also it is not coming in the top 10 states with most accident cases\n",
    "# let's check if it is present in the dataset or not\n",
    "\"New York\" in df.City"
   ]
  },
  {
   "cell_type": "code",
   "execution_count": null,
   "metadata": {},
   "outputs": [],
   "source": [
    "\"NY\" in df.State\n",
    "# by this we can say that new york is not present in the dataset"
   ]
  },
  {
   "cell_type": "code",
   "execution_count": null,
   "metadata": {},
   "outputs": [],
   "source": [
    "import seaborn as sns\n",
    "sns.set_style(\"darkgrid\")"
   ]
  },
  {
   "cell_type": "code",
   "execution_count": null,
   "metadata": {},
   "outputs": [],
   "source": [
    "sns.distplot(number_of_city, kde=False)"
   ]
  },
  {
   "cell_type": "code",
   "execution_count": null,
   "metadata": {},
   "outputs": [],
   "source": [
    "high_accident_cities=number_of_city[number_of_city>=1000]\n",
    "low_accident_cities=number_of_city[number_of_city<1000]"
   ]
  },
  {
   "cell_type": "code",
   "execution_count": null,
   "metadata": {},
   "outputs": [],
   "source": [
    "sns.distplot(high_accident_cities);"
   ]
  },
  {
   "cell_type": "code",
   "execution_count": null,
   "metadata": {},
   "outputs": [],
   "source": [
    "sns.distplot(low_accident_cities);"
   ]
  },
  {
   "cell_type": "code",
   "execution_count": null,
   "metadata": {},
   "outputs": [],
   "source": [
    "len(high_accident_cities)/len(number_of_city)\n",
    "# by this we can say 2% of the cities have more than 1000 yearly accidents"
   ]
  },
  {
   "cell_type": "code",
   "execution_count": null,
   "metadata": {},
   "outputs": [],
   "source": [
    "# number of cities that has only one accidents\n",
    "only_one_accident=number_of_city[number_of_city==1]\n",
    "only_one_accident\n",
    "# we can say 1167 cities have only one accident"
   ]
  },
  {
   "cell_type": "markdown",
   "metadata": {},
   "source": [
    "# Start Time"
   ]
  },
  {
   "cell_type": "code",
   "execution_count": null,
   "metadata": {},
   "outputs": [],
   "source": [
    "df.columns"
   ]
  },
  {
   "cell_type": "code",
   "execution_count": null,
   "metadata": {},
   "outputs": [],
   "source": [
    "df[\"Start_Time\"] # this contains the string"
   ]
  },
  {
   "cell_type": "code",
   "execution_count": null,
   "metadata": {},
   "outputs": [],
   "source": [
    "df[\"Start_Time\"]=pd.to_datetime(df[\"Start_Time\"])\n",
    "# now it is converted in date time object\n",
    "df[\"Start_Time\"][0]"
   ]
  },
  {
   "cell_type": "code",
   "execution_count": null,
   "metadata": {},
   "outputs": [],
   "source": [
    "# we can't practially plot graph for each accident as the accidents must have occured in different time period\n",
    "sns.distplot(df[\"Start_Time\"].dt.hour,kde=False,bins=24,norm_hist=True);\n",
    "# norm_hist will show the density instead of the frequency\n",
    "\n",
    "# By this we can say that the maximum accidents are from 8-9 am (probably people in hurry for the office) and 4-6 pm (as people leave from the work.)"
   ]
  },
  {
   "cell_type": "code",
   "execution_count": null,
   "metadata": {},
   "outputs": [],
   "source": [
    "sns.distplot(df.Start_Time.dt.dayofweek, bins=7, kde=False, norm_hist=True);\n",
    "# norm_hist=True If True, the histogram height shows a density rather than a count.\n",
    "# on weekends very less people travel for which which may be the reason for less number of accidents"
   ]
  },
  {
   "cell_type": "markdown",
   "metadata": {},
   "source": [
    "Is the distribution of accidents by hour the same on weekends as on weekdays."
   ]
  },
  {
   "cell_type": "code",
   "execution_count": null,
   "metadata": {},
   "outputs": [],
   "source": [
    "sundays_start=df[\"Start_Time\"][df[\"Start_Time\"].dt.dayofweek==6] \n",
    "sns.distplot(sundays_start.dt.hour,kde=False,bins=24,norm_hist=True);"
   ]
  },
  {
   "cell_type": "code",
   "execution_count": null,
   "metadata": {},
   "outputs": [],
   "source": [
    "# by looking at the graph we can say on sunday in the morning and in the evening most accidents occur.\n",
    "# let's check for monday also to check if the trend is same or different\n",
    "# the peak occurs at "
   ]
  },
  {
   "cell_type": "code",
   "execution_count": null,
   "metadata": {},
   "outputs": [],
   "source": [
    "monday_start=df[\"Start_Time\"][df[\"Start_Time\"].dt.dayofweek==0] \n",
    "sns.distplot(monday_start.dt.hour,kde=False,bins=24,norm_hist=True);"
   ]
  },
  {
   "cell_type": "code",
   "execution_count": null,
   "metadata": {},
   "outputs": [],
   "source": [
    "# we can see the graph is different in monday it's higher in the morning and in the afternoon"
   ]
  },
  {
   "cell_type": "code",
   "execution_count": null,
   "metadata": {},
   "outputs": [],
   "source": [
    "sns.distplot(df.Start_Time.dt.month, bins=12, kde=False, norm_hist=True);\n",
    "# we can say that the maximum accidents are in the month of December."
   ]
  },
  {
   "cell_type": "code",
   "execution_count": null,
   "metadata": {},
   "outputs": [],
   "source": [
    "# we can look for the data for a particular year\n",
    "df_2019=df[\"Start_Time\"][df[\"Start_Time\"].dt.year==2019]\n",
    "sns.distplot(df_2019.dt.month, bins=12, kde=False, norm_hist=True);\n",
    "# in 2019 we can see there were more accidents in the month of october and december\n",
    "\n"
   ]
  },
  {
   "cell_type": "code",
   "execution_count": null,
   "metadata": {},
   "outputs": [],
   "source": [
    "# we can look for 2018 also\n",
    "df_2018=df[\"Start_Time\"][df[\"Start_Time\"].dt.year==2018]\n",
    "sns.distplot(df_2018.dt.month, bins=12, kde=False, norm_hist=True);\n",
    "# here we can see the highest cases of accidents were in the last 3 months"
   ]
  },
  {
   "cell_type": "markdown",
   "metadata": {},
   "source": [
    "# Start Latitude & Longitude"
   ]
  },
  {
   "cell_type": "code",
   "execution_count": null,
   "metadata": {},
   "outputs": [],
   "source": [
    "df[\"Start_Lat\"]"
   ]
  },
  {
   "cell_type": "code",
   "execution_count": null,
   "metadata": {},
   "outputs": [],
   "source": [
    "df[\"Start_Lng\"]"
   ]
  },
  {
   "cell_type": "code",
   "execution_count": null,
   "metadata": {},
   "outputs": [],
   "source": [
    "sns.scatterplot(x=df[\"Start_Lng\"],y=df[\"Start_Lat\"],size=0.01);\n",
    "# size is the point size\n",
    "# longitude is the horizontal lines\n",
    "# latitude is the vertical lines"
   ]
  },
  {
   "cell_type": "code",
   "execution_count": null,
   "metadata": {},
   "outputs": [],
   "source": [
    "import folium"
   ]
  },
  {
   "cell_type": "code",
   "execution_count": null,
   "metadata": {},
   "outputs": [],
   "source": [
    "lat,lon=df.Start_Lat[0],df.Start_Lng[0]\n",
    "lat,lon"
   ]
  },
  {
   "cell_type": "code",
   "execution_count": null,
   "metadata": {},
   "outputs": [],
   "source": [
    "lat_lon=list(zip(list(df[\"Start_Lat\"]),list(df[\"Start_Lng\"])))"
   ]
  },
  {
   "cell_type": "code",
   "execution_count": null,
   "metadata": {},
   "outputs": [],
   "source": [
    "from folium.plugins import HeatMap\n",
    "\n",
    "map=folium.Map()  # we create a map\n",
    "# we want heatmap\n",
    "HeatMap(lat_lon).add_to(map)\n",
    "map\n"
   ]
  },
  {
   "cell_type": "code",
   "execution_count": null,
   "metadata": {},
   "outputs": [],
   "source": []
  },
  {
   "cell_type": "code",
   "execution_count": null,
   "metadata": {},
   "outputs": [],
   "source": []
  },
  {
   "cell_type": "code",
   "execution_count": null,
   "metadata": {},
   "outputs": [],
   "source": []
  },
  {
   "cell_type": "code",
   "execution_count": null,
   "metadata": {},
   "outputs": [],
   "source": []
  },
  {
   "cell_type": "markdown",
   "metadata": {},
   "source": [
    "1) Are there more accidents in warmer or colder areas?\n",
    "\n",
    "2) Which 5 states have the highest number of accidents? How about per capita?\n",
    "\n",
    "3) Does New York show up in the data? If yes, why is the count lower if this the most populated city.\n",
    "\n",
    "4) Among the top 100 cities in number of accidents, which states do they belong to most frequently.\n",
    "\n",
    "5) What time of the day are accidents most frequent in? - ANSWERED\n",
    "\n",
    "6) Which days of the week have the most accidents?\n",
    "\n",
    "7) Which months have the most accidents?\n",
    "\n",
    "8) What is the trend of accidents year over year (decreasing/increasing?)\n",
    "\n",
    "9) When is accidents per unit of traffic the highest."
   ]
  }
 ],
 "metadata": {
  "kernelspec": {
   "display_name": "Python 3",
   "language": "python",
   "name": "python3"
  },
  "language_info": {
   "codemirror_mode": {
    "name": "ipython",
    "version": 3
   },
   "file_extension": ".py",
   "mimetype": "text/x-python",
   "name": "python",
   "nbconvert_exporter": "python",
   "pygments_lexer": "ipython3",
   "version": "3.8.3"
  }
 },
 "nbformat": 4,
 "nbformat_minor": 4
}
